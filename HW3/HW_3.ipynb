{
  "nbformat": 4,
  "nbformat_minor": 0,
  "metadata": {
    "colab": {
      "name": "HW_3.ipynb",
      "provenance": [],
      "collapsed_sections": []
    },
    "kernelspec": {
      "name": "python3",
      "display_name": "Python 3"
    },
    "accelerator": "GPU"
  },
  "cells": [
    {
      "cell_type": "markdown",
      "metadata": {
        "id": "view-in-github"
      },
      "source": [
        "<a href=\"https://colab.research.google.com/github/dbamman/nlp21/blob/main/HW3/HW_3.ipynb\" target=\"_parent\"><img src=\"https://colab.research.google.com/assets/colab-badge.svg\" alt=\"Open In Colab\"/></a>"
      ]
    },
    {
      "cell_type": "markdown",
      "metadata": {
        "id": "WlFS_v7TpRHe"
      },
      "source": [
        "# Homework 3: Pytorch and CNNs\n",
        "\n",
        "In this homework, you will begin exploring Pytorch, a neural network library that will be used throughout the remainder of the semester.  This homework will focus on Convolutional Neural Networks.\n",
        "\n"
      ]
    },
    {
      "cell_type": "code",
      "metadata": {
        "id": "wyY0yl1Jpf2o"
      },
      "source": [
        "import sys, argparse\n",
        "import numpy as np\n",
        "import re\n",
        "import nltk\n",
        "import csv\n",
        "import matplotlib.pyplot as plt\n",
        "import torch\n",
        "import torch.nn as nn\n",
        "import nltk\n",
        "from tqdm import tqdm\n",
        "from collections import Counter\n",
        "\n",
        "#Sets random seeds for reproducibility\n",
        "seed=159259\n",
        "np.random.seed(seed)\n",
        "torch.manual_seed(seed)\n",
        "torch.cuda.manual_seed(seed)\n",
        "torch.backends.cudnn.deterministic = True"
      ],
      "execution_count": 1,
      "outputs": []
    },
    {
      "cell_type": "code",
      "metadata": {
        "id": "s7DVjxeq_-OF",
        "colab": {
          "base_uri": "https://localhost:8080/"
        },
        "outputId": "2aa6b605-71c7-4775-8480-490e595905bc"
      },
      "source": [
        "!python -m nltk.downloader punkt"
      ],
      "execution_count": 2,
      "outputs": [
        {
          "output_type": "stream",
          "text": [
            "/usr/lib/python3.6/runpy.py:125: RuntimeWarning: 'nltk.downloader' found in sys.modules after import of package 'nltk', but prior to execution of 'nltk.downloader'; this may result in unpredictable behaviour\n",
            "  warn(RuntimeWarning(msg))\n",
            "[nltk_data] Downloading package punkt to /root/nltk_data...\n",
            "[nltk_data]   Unzipping tokenizers/punkt.zip.\n"
          ],
          "name": "stdout"
        }
      ]
    },
    {
      "cell_type": "markdown",
      "metadata": {
        "id": "jlYfHZwlQXA_"
      },
      "source": [
        "When looking up pytorch documentation, it may be useful to know which version of torch you are running.\n"
      ]
    },
    {
      "cell_type": "code",
      "metadata": {
        "id": "qUdEHON5lybF",
        "colab": {
          "base_uri": "https://localhost:8080/"
        },
        "outputId": "c8bdac83-be83-49e3-80c0-61159f14e37c"
      },
      "source": [
        "print(torch.__version__)"
      ],
      "execution_count": 3,
      "outputs": [
        {
          "output_type": "stream",
          "text": [
            "1.7.0+cu101\n"
          ],
          "name": "stdout"
        }
      ]
    },
    {
      "cell_type": "markdown",
      "metadata": {
        "id": "8xrbyc1flKp_"
      },
      "source": [
        "# **IMPORTANT**: GPU is not enabled by default\n",
        "\n",
        "You must switch runtime environments if your output of the next block of code has an error saying \"ValueError: Expected a cuda device, but got: cpu\"\n",
        "\n",
        "Go to Runtime > Change runtime type > Hardware accelerator > GPU"
      ]
    },
    {
      "cell_type": "code",
      "metadata": {
        "id": "mRy4VWrvkCP6",
        "colab": {
          "base_uri": "https://localhost:8080/"
        },
        "outputId": "edea963a-412e-4225-ccca-248f732a0b6c"
      },
      "source": [
        "device = torch.cuda.device(\"cuda\" if torch.cuda.is_available() else \"cpu\")\n",
        "print(\"Running on {}\".format(device))"
      ],
      "execution_count": 4,
      "outputs": [
        {
          "output_type": "stream",
          "text": [
            "Running on <torch.cuda.device object at 0x7f54d63a7cf8>\n"
          ],
          "name": "stdout"
        }
      ]
    },
    {
      "cell_type": "markdown",
      "metadata": {
        "id": "XyARzkPKmUlR"
      },
      "source": [
        "# Data Processing\n",
        "\n",
        "Let's begin by loading our datasets and the 50-dimensional GLoVE word embeddings.  "
      ]
    },
    {
      "cell_type": "code",
      "metadata": {
        "id": "l_ZZQsGwH5vj",
        "colab": {
          "base_uri": "https://localhost:8080/"
        },
        "outputId": "0e18b009-8438-4c42-8b1a-94d080c04622"
      },
      "source": [
        "!wget https://raw.githubusercontent.com/dbamman/nlp21/main/HW3/acl.train\n",
        "!wget https://raw.githubusercontent.com/dbamman/nlp21/main/HW3/acl.dev\n",
        "!wget https://raw.githubusercontent.com/dbamman/nlp21/main/HW3/glove.6B.50d.50K.txt"
      ],
      "execution_count": 5,
      "outputs": [
        {
          "output_type": "stream",
          "text": [
            "--2021-02-10 20:52:47--  https://raw.githubusercontent.com/dbamman/nlp21/main/HW3/acl.train\n",
            "Resolving raw.githubusercontent.com (raw.githubusercontent.com)... 185.199.111.133, 185.199.109.133, 185.199.110.133, ...\n",
            "Connecting to raw.githubusercontent.com (raw.githubusercontent.com)|185.199.111.133|:443... connected.\n",
            "HTTP request sent, awaiting response... 200 OK\n",
            "Length: 1027009 (1003K) [text/plain]\n",
            "Saving to: ‘acl.train’\n",
            "\n",
            "acl.train           100%[===================>]   1003K  --.-KB/s    in 0.02s   \n",
            "\n",
            "2021-02-10 20:52:47 (50.2 MB/s) - ‘acl.train’ saved [1027009/1027009]\n",
            "\n",
            "--2021-02-10 20:52:47--  https://raw.githubusercontent.com/dbamman/nlp21/main/HW3/acl.dev\n",
            "Resolving raw.githubusercontent.com (raw.githubusercontent.com)... 185.199.111.133, 185.199.109.133, 185.199.110.133, ...\n",
            "Connecting to raw.githubusercontent.com (raw.githubusercontent.com)|185.199.111.133|:443... connected.\n",
            "HTTP request sent, awaiting response... 200 OK\n",
            "Length: 359826 (351K) [text/plain]\n",
            "Saving to: ‘acl.dev’\n",
            "\n",
            "acl.dev             100%[===================>] 351.39K  --.-KB/s    in 0.007s  \n",
            "\n",
            "2021-02-10 20:52:47 (52.5 MB/s) - ‘acl.dev’ saved [359826/359826]\n",
            "\n",
            "--2021-02-10 20:52:47--  https://raw.githubusercontent.com/dbamman/nlp21/main/HW3/glove.6B.50d.50K.txt\n",
            "Resolving raw.githubusercontent.com (raw.githubusercontent.com)... 185.199.111.133, 185.199.109.133, 185.199.110.133, ...\n",
            "Connecting to raw.githubusercontent.com (raw.githubusercontent.com)|185.199.111.133|:443... connected.\n",
            "HTTP request sent, awaiting response... 200 OK\n",
            "Length: 21357789 (20M) [text/plain]\n",
            "Saving to: ‘glove.6B.50d.50K.txt’\n",
            "\n",
            "glove.6B.50d.50K.tx 100%[===================>]  20.37M  --.-KB/s    in 0.1s    \n",
            "\n",
            "2021-02-10 20:52:47 (183 MB/s) - ‘glove.6B.50d.50K.txt’ saved [21357789/21357789]\n",
            "\n"
          ],
          "name": "stdout"
        }
      ]
    },
    {
      "cell_type": "code",
      "metadata": {
        "id": "vC5tWWn2mWhH"
      },
      "source": [
        "trainingFile = \"acl.train\"\n",
        "devFile = \"acl.dev\""
      ],
      "execution_count": 6,
      "outputs": []
    },
    {
      "cell_type": "code",
      "metadata": {
        "id": "q_vLcPzzIxDw"
      },
      "source": [
        "labels = {'APPLICATIONS': 11,\n",
        " 'CSSCA': 23,\n",
        " 'DIALOGUE': 12,\n",
        " 'DISCOURSE': 13,\n",
        " 'ETHICS': 8,\n",
        " 'GENERATION': 9,\n",
        " 'GREEN': 15,\n",
        " 'GROUNDING': 18,\n",
        " 'IE': 6,\n",
        " 'INTERPRET': 10,\n",
        " 'IR': 22,\n",
        " 'LEXSEM': 7,\n",
        " 'LING': 24,\n",
        " 'MLCLASS': 1,\n",
        " 'MLLM': 16,\n",
        " 'MT': 4,\n",
        " 'MULTILING': 3,\n",
        " 'OTHER': 25,\n",
        " 'PHON': 5,\n",
        " 'QA': 17,\n",
        " 'RESOURCES': 14,\n",
        " 'SA': 21,\n",
        " 'SENTSEM': 0,\n",
        " 'SPEECH': 19,\n",
        " 'SUMM': 2,\n",
        " 'SYNTAX': 20}"
      ],
      "execution_count": 7,
      "outputs": []
    },
    {
      "cell_type": "code",
      "metadata": {
        "id": "sNb4H1auI4lA"
      },
      "source": [
        "def get_batches(x, y, xType, batch_size=12):\n",
        "    batches_x=[]\n",
        "    batches_y=[]\n",
        "    for i in range(0, len(x), batch_size):\n",
        "        batches_x.append(xType(x[i:i+batch_size]))\n",
        "        batches_y.append(torch.LongTensor(y[i:i+batch_size]))\n",
        "    \n",
        "    return batches_x, batches_y\n",
        "        "
      ],
      "execution_count": 8,
      "outputs": []
    },
    {
      "cell_type": "code",
      "metadata": {
        "id": "SnIbufFHlYSx"
      },
      "source": [
        "PAD_INDEX = 0             # reserved for padding words\n",
        "UNKNOWN_INDEX = 1         # reserved for unknown words\n",
        "SEP_INDEX = 2\n",
        "\n",
        "data_lens = []\n",
        "\n",
        "def read_embeddings(filename, vocab_size=50000):\n",
        "  \"\"\"\n",
        "  Utility function, loads in the `vocab_size` most common embeddings from `filename`\n",
        "  \n",
        "  Arguments:\n",
        "  - filename:     path to file\n",
        "                  automatically infers correct embedding dimension from filename\n",
        "  - vocab_size:   maximum number of embeddings to load\n",
        "\n",
        "  Returns \n",
        "  - embeddings:   torch.FloatTensor matrix of size (vocab_size x word_embedding_dim)\n",
        "  - vocab:        dictionary mapping word (str) to index (int) in embedding matrix\n",
        "  \"\"\"\n",
        "\n",
        "  # get the embedding size from the first embedding\n",
        "  with open(filename, encoding=\"utf-8\") as file:\n",
        "    word_embedding_dim = len(file.readline().split(\" \")) - 1\n",
        "\n",
        "  vocab = {}\n",
        "\n",
        "  embeddings = np.zeros((vocab_size, word_embedding_dim))\n",
        "  with open(filename, encoding=\"utf-8\") as file:\n",
        "    for idx, line in enumerate(file):\n",
        "\n",
        "      if idx + 2 >= vocab_size:\n",
        "        break\n",
        "\n",
        "      cols = line.rstrip().split(\" \")\n",
        "      val = np.array(cols[1:])\n",
        "      word = cols[0]\n",
        "      embeddings[idx + 2] = val\n",
        "      vocab[word] = idx + 2\n",
        "  \n",
        "  # a FloatTensor is a multidimensional matrix\n",
        "  # that contains 32-bit floats in every entry\n",
        "  # https://pytorch.org/docs/stable/tensors.html\n",
        "  return torch.FloatTensor(embeddings), vocab\n",
        "\n",
        "\n"
      ],
      "execution_count": 9,
      "outputs": []
    },
    {
      "cell_type": "markdown",
      "metadata": {
        "id": "PrBHMiLPIOKB"
      },
      "source": [
        "# Logistic regression\n",
        "\n",
        "First, let's code up logistic regression in pytorch so you can see how the general framework works, and also get a sense of baseline performance that we can compare a CNN against."
      ]
    },
    {
      "cell_type": "code",
      "metadata": {
        "id": "7A8N5GNJH4x8"
      },
      "source": [
        "def get_vocab(filename, max_words=10000):\n",
        "    unigram_counts=Counter()\n",
        "    with open(filename) as file:    \n",
        "        for line in file:\n",
        "            cols=line.rstrip().split(\"\\t\")\n",
        "            idd = cols[0]\n",
        "            label = cols[1]\n",
        "            title = cols[2]\n",
        "            abstract = cols[3]\n",
        "            strr=\"%s %s\" % (title, abstract)\n",
        "            words=nltk.word_tokenize(strr)\n",
        "\n",
        "            for word in words:\n",
        "                word=word.lower()\n",
        "                unigram_counts[word]+=1 # key as word, value as counts\n",
        "\n",
        "    vocab={}\n",
        "    for k,v in unigram_counts.most_common(max_words): # top max_words words, k as word, v as counts\n",
        "        vocab[k]=len(vocab) # key as word, value as top rank\n",
        "    return vocab\n",
        "        "
      ],
      "execution_count": 10,
      "outputs": []
    },
    {
      "cell_type": "code",
      "metadata": {
        "id": "392D8YLfI_K3"
      },
      "source": [
        "class LogisticRegressionClassifier(nn.Module):\n",
        "\n",
        "   def __init__(self, input_dim, output_dim):\n",
        "      super().__init__()\n",
        "      self.linear = torch.nn.Linear(input_dim, output_dim)\n",
        " \n",
        "    \n",
        "   def forward(self, input): \n",
        "      x1 = self.linear(input)\n",
        "      return x1\n",
        "\n",
        "   def evaluate(self, x, y):\n",
        "      self.eval()\n",
        "      corr = 0.\n",
        "      total = 0.\n",
        "      with torch.no_grad():\n",
        "        for x, y in zip(x, y):\n",
        "          y_preds=self.forward(x)\n",
        "          for idx, y_pred in enumerate(y_preds):\n",
        "              prediction=torch.argmax(y_pred)\n",
        "              if prediction == y[idx]:\n",
        "                corr += 1.\n",
        "              total+=1                          \n",
        "      return corr/total\n",
        "\n"
      ],
      "execution_count": 11,
      "outputs": []
    },
    {
      "cell_type": "markdown",
      "metadata": {
        "id": "sgaDKtOrc10l"
      },
      "source": [
        "## Average Embedding Representation\n",
        "Let's train a logistic regression classifier where the input is the average GLoVE embedding for all words in a paper's title and abstract"
      ]
    },
    {
      "cell_type": "code",
      "metadata": {
        "id": "0YgU4027luO3"
      },
      "source": [
        "def read_glove_data(filename, vocab, embs):\n",
        "    data=[]\n",
        "    data_labels=[]\n",
        "    with open(filename) as file:\n",
        "        for line in file:\n",
        "            avg_emb=np.zeros(50)\n",
        "            cols=line.rstrip().split(\"\\t\")\n",
        "            idd = cols[0]\n",
        "            label = cols[1]\n",
        "            title = cols[2]\n",
        "            abstract = cols[3]\n",
        "            strr=\"%s %s\" % (title, abstract)\n",
        "            words=nltk.word_tokenize(strr)\n",
        "            avg_counter = 0.\n",
        "            for word in words:\n",
        "                word=word.lower()\n",
        "                if word in glove_vocab:\n",
        "                    avg_emb += embs[glove_vocab[word]].numpy()\n",
        "                    avg_counter += 1.\n",
        "            avg_emb /= avg_counter\n",
        "\n",
        "            data.append(avg_emb)\n",
        "            data_labels.append(labels[label])\n",
        "    return data, data_labels "
      ],
      "execution_count": 12,
      "outputs": []
    },
    {
      "cell_type": "code",
      "metadata": {
        "id": "JYb1iVsqb0Le"
      },
      "source": [
        "embs, glove_vocab = read_embeddings(\"glove.6B.50d.50K.txt\")\n",
        "avg_train_x, avg_train_y=read_glove_data(trainingFile, glove_vocab, embs)\n",
        "avg_dev_x, avg_dev_y=read_glove_data(devFile, glove_vocab, embs)"
      ],
      "execution_count": 13,
      "outputs": []
    },
    {
      "cell_type": "code",
      "metadata": {
        "id": "-FeYYf7-c01Z"
      },
      "source": [
        "avg_trainX, avg_trainY=get_batches(avg_train_x, avg_train_y, xType=torch.FloatTensor)\n",
        "avg_devX, avg_devY=get_batches(avg_dev_x, avg_dev_y, xType=torch.FloatTensor)"
      ],
      "execution_count": 14,
      "outputs": []
    },
    {
      "cell_type": "code",
      "metadata": {
        "id": "Duzn0vCrdR5X",
        "colab": {
          "base_uri": "https://localhost:8080/"
        },
        "outputId": "50328395-63f7-47ef-e966-f88f5cc0adfd"
      },
      "source": [
        "logreg=LogisticRegressionClassifier(50, len(labels))\n",
        "optimizer = torch.optim.Adam(logreg.parameters(), lr=0.001, weight_decay=1e-5)\n",
        "losses = []\n",
        "cross_entropy=nn.CrossEntropyLoss()\n",
        "\n",
        "num_labels=len(labels)\n",
        "\n",
        "for epoch in range(200):\n",
        "    logreg.train()\n",
        "    \n",
        "    for x, y in zip(avg_trainX, avg_trainY):\n",
        "        y_pred=logreg.forward(x)\n",
        "        loss = cross_entropy(y_pred.view(-1, num_labels), y.view(-1))\n",
        "        losses.append(loss)\n",
        "        optimizer.zero_grad()\n",
        "        loss.backward()\n",
        "        optimizer.step()\n",
        "    dev_accuracy=logreg.evaluate(avg_devX, avg_devY)\n",
        "    if epoch % 5 == 0:\n",
        "        print(\"Epoch %s, dev accuracy: %.3f\" % (epoch, dev_accuracy))\n"
      ],
      "execution_count": 15,
      "outputs": [
        {
          "output_type": "stream",
          "text": [
            "Epoch 0, dev accuracy: 0.080\n",
            "Epoch 5, dev accuracy: 0.097\n",
            "Epoch 10, dev accuracy: 0.140\n",
            "Epoch 15, dev accuracy: 0.177\n",
            "Epoch 20, dev accuracy: 0.200\n",
            "Epoch 25, dev accuracy: 0.206\n",
            "Epoch 30, dev accuracy: 0.220\n",
            "Epoch 35, dev accuracy: 0.229\n",
            "Epoch 40, dev accuracy: 0.231\n",
            "Epoch 45, dev accuracy: 0.237\n",
            "Epoch 50, dev accuracy: 0.240\n",
            "Epoch 55, dev accuracy: 0.246\n",
            "Epoch 60, dev accuracy: 0.251\n",
            "Epoch 65, dev accuracy: 0.260\n",
            "Epoch 70, dev accuracy: 0.266\n",
            "Epoch 75, dev accuracy: 0.263\n",
            "Epoch 80, dev accuracy: 0.266\n",
            "Epoch 85, dev accuracy: 0.266\n",
            "Epoch 90, dev accuracy: 0.266\n",
            "Epoch 95, dev accuracy: 0.266\n",
            "Epoch 100, dev accuracy: 0.263\n",
            "Epoch 105, dev accuracy: 0.263\n",
            "Epoch 110, dev accuracy: 0.269\n",
            "Epoch 115, dev accuracy: 0.271\n",
            "Epoch 120, dev accuracy: 0.274\n",
            "Epoch 125, dev accuracy: 0.277\n",
            "Epoch 130, dev accuracy: 0.277\n",
            "Epoch 135, dev accuracy: 0.277\n",
            "Epoch 140, dev accuracy: 0.289\n",
            "Epoch 145, dev accuracy: 0.297\n",
            "Epoch 150, dev accuracy: 0.303\n",
            "Epoch 155, dev accuracy: 0.306\n",
            "Epoch 160, dev accuracy: 0.314\n",
            "Epoch 165, dev accuracy: 0.317\n",
            "Epoch 170, dev accuracy: 0.320\n",
            "Epoch 175, dev accuracy: 0.320\n",
            "Epoch 180, dev accuracy: 0.326\n",
            "Epoch 185, dev accuracy: 0.326\n",
            "Epoch 190, dev accuracy: 0.326\n",
            "Epoch 195, dev accuracy: 0.320\n"
          ],
          "name": "stdout"
        }
      ]
    },
    {
      "cell_type": "markdown",
      "metadata": {
        "id": "ObjO1BiXc_nY"
      },
      "source": [
        "## BOW Representation\n",
        "Feel free to fill in your bag-of-words implementation into read_bow_data() to see how the logistic classifier model works with a different featurization.  (You are not required to do anything within this BOW representation section; we provide the structure in case you'd like to explore how your your BOW logistic regression model from the last homework could be implemented in Pytorch)."
      ]
    },
    {
      "cell_type": "code",
      "metadata": {
        "id": "huWSY2FNlqrF"
      },
      "source": [
        "def read_bow_data(filename, vocab):\n",
        "    data=[]\n",
        "    data_labels=[]\n",
        "    with open(filename) as file:\n",
        "        for line in file:\n",
        "            cols=line.rstrip().split(\"\\t\")\n",
        "            idd = cols[0]\n",
        "            label = cols[1]\n",
        "            title = cols[2]\n",
        "            abstract = cols[3]\n",
        "            strr=\"%s %s\" % (title, abstract)\n",
        "            bow=np.zeros(len(vocab))\n",
        "\n",
        "            '''\n",
        "            Insert your bow code here to store the featurization in the bow variable \n",
        "            '''\n",
        "            words = nltk.word_tokenize(strr)\n",
        "            for word in words:\n",
        "              word = word.lower()\n",
        "              if word in vocab:\n",
        "                bow[vocab[word]] = 1\n",
        "\n",
        "            data.append(bow)\n",
        "\n",
        "            data_labels.append(labels[label])\n",
        "    return data, data_labels \n"
      ],
      "execution_count": 16,
      "outputs": []
    },
    {
      "cell_type": "code",
      "metadata": {
        "id": "tc9ZGJvWImkA"
      },
      "source": [
        "bow_vocab=get_vocab(trainingFile)\n",
        "bow_train_x, bow_train_y=read_bow_data(trainingFile, bow_vocab)\n",
        "bow_dev_x, bow_dev_y=read_bow_data(devFile, bow_vocab)"
      ],
      "execution_count": 17,
      "outputs": []
    },
    {
      "cell_type": "code",
      "metadata": {
        "id": "LFucMsZII8Hb"
      },
      "source": [
        "bow_trainX, bow_trainY=get_batches(bow_train_x, bow_train_y, xType=torch.FloatTensor)\n",
        "bow_devX, bow_devY=get_batches(bow_dev_x, bow_dev_y, xType=torch.FloatTensor)"
      ],
      "execution_count": 18,
      "outputs": []
    },
    {
      "cell_type": "code",
      "metadata": {
        "id": "byr4SJB1JCDO",
        "colab": {
          "base_uri": "https://localhost:8080/"
        },
        "outputId": "a76d88dd-7e25-46d8-de98-9a3703c57726"
      },
      "source": [
        "logreg=LogisticRegressionClassifier(len(bow_vocab), len(labels))\n",
        "optimizer = torch.optim.Adam(logreg.parameters(), lr=0.001, weight_decay=1e-5)\n",
        "losses = []\n",
        "cross_entropy=nn.CrossEntropyLoss()\n",
        "\n",
        "num_labels=len(labels)\n",
        "\n",
        "for epoch in range(200):\n",
        "    for x, y in zip(bow_trainX, bow_trainY):\n",
        "        y_pred=logreg.forward(x)\n",
        "        loss = cross_entropy(y_pred.view(-1, num_labels), y.view(-1))\n",
        "        losses.append(loss)\n",
        "        optimizer.zero_grad()\n",
        "        loss.backward()\n",
        "        optimizer.step()\n",
        "    dev_accuracy=logreg.evaluate(bow_devX, bow_devY)\n",
        "    if epoch % 5 == 0:\n",
        "        print(\"Epoch %s, dev accuracy: %.3f\" % (epoch, dev_accuracy))\n"
      ],
      "execution_count": 19,
      "outputs": [
        {
          "output_type": "stream",
          "text": [
            "Epoch 0, dev accuracy: 0.263\n",
            "Epoch 5, dev accuracy: 0.389\n",
            "Epoch 10, dev accuracy: 0.397\n",
            "Epoch 15, dev accuracy: 0.409\n",
            "Epoch 20, dev accuracy: 0.409\n",
            "Epoch 25, dev accuracy: 0.406\n",
            "Epoch 30, dev accuracy: 0.406\n",
            "Epoch 35, dev accuracy: 0.411\n",
            "Epoch 40, dev accuracy: 0.409\n",
            "Epoch 45, dev accuracy: 0.414\n",
            "Epoch 50, dev accuracy: 0.420\n",
            "Epoch 55, dev accuracy: 0.423\n",
            "Epoch 60, dev accuracy: 0.426\n",
            "Epoch 65, dev accuracy: 0.429\n",
            "Epoch 70, dev accuracy: 0.434\n",
            "Epoch 75, dev accuracy: 0.434\n",
            "Epoch 80, dev accuracy: 0.440\n",
            "Epoch 85, dev accuracy: 0.437\n",
            "Epoch 90, dev accuracy: 0.440\n",
            "Epoch 95, dev accuracy: 0.440\n",
            "Epoch 100, dev accuracy: 0.449\n",
            "Epoch 105, dev accuracy: 0.449\n",
            "Epoch 110, dev accuracy: 0.449\n",
            "Epoch 115, dev accuracy: 0.460\n",
            "Epoch 120, dev accuracy: 0.457\n",
            "Epoch 125, dev accuracy: 0.463\n",
            "Epoch 130, dev accuracy: 0.463\n",
            "Epoch 135, dev accuracy: 0.463\n",
            "Epoch 140, dev accuracy: 0.469\n",
            "Epoch 145, dev accuracy: 0.471\n",
            "Epoch 150, dev accuracy: 0.474\n",
            "Epoch 155, dev accuracy: 0.471\n",
            "Epoch 160, dev accuracy: 0.483\n",
            "Epoch 165, dev accuracy: 0.480\n",
            "Epoch 170, dev accuracy: 0.480\n",
            "Epoch 175, dev accuracy: 0.483\n",
            "Epoch 180, dev accuracy: 0.483\n",
            "Epoch 185, dev accuracy: 0.483\n",
            "Epoch 190, dev accuracy: 0.477\n",
            "Epoch 195, dev accuracy: 0.480\n"
          ],
          "name": "stdout"
        }
      ]
    },
    {
      "cell_type": "markdown",
      "metadata": {
        "id": "bbHrmE4jJQrT"
      },
      "source": [
        "# Deliverable 1. CNN \n",
        "\n",
        "Now let's create our CNN."
      ]
    },
    {
      "cell_type": "code",
      "metadata": {
        "id": "9YhST7BOJPoG"
      },
      "source": [
        "def read_data(filename, vocab, labels):\n",
        "    \"\"\"\n",
        "    :param filename: the name of the file\n",
        "    :return: list of tuple ([word index list], label)\n",
        "    as input for the forward and backward function\n",
        "    \"\"\"    \n",
        "    data = []\n",
        "    data_labels = []\n",
        "    file = open(filename)\n",
        "    for line in file:\n",
        "        cols = line.split(\"\\t\")\n",
        "        idd = cols[0]\n",
        "        label = cols[1]\n",
        "        title = cols[2]\n",
        "        abstract = cols[3]\n",
        "        w_int = []\n",
        "        for w in nltk.word_tokenize(title.lower()):\n",
        "            if w in vocab:\n",
        "                w_int.append(vocab[w])\n",
        "            else:\n",
        "                w_int.append(UNKNOWN_INDEX)\n",
        "        w_int.append(SEP_INDEX)\n",
        "        w_int.append(SEP_INDEX)\n",
        "        for w in nltk.word_tokenize(abstract.lower()):\n",
        "            if w in vocab:\n",
        "                w_int.append(vocab[w])\n",
        "            else:\n",
        "                w_int.append(UNKNOWN_INDEX)\n",
        "        data_lens.append(len(w_int))\n",
        "        if len(w_int) < 549:\n",
        "            w_int.extend([PAD_INDEX] * (549 - len(w_int)))\n",
        "        if len(w_int) < 550:\n",
        "          data.append((w_int))\n",
        "          data_labels.append(labels[label])\n",
        "    file.close()\n",
        "    return data, data_labels"
      ],
      "execution_count": 20,
      "outputs": []
    },
    {
      "cell_type": "code",
      "metadata": {
        "id": "9sB60ratJZvB"
      },
      "source": [
        "embs, cnn_vocab = read_embeddings(\"glove.6B.50d.50K.txt\")"
      ],
      "execution_count": 21,
      "outputs": []
    },
    {
      "cell_type": "code",
      "metadata": {
        "colab": {
          "base_uri": "https://localhost:8080/"
        },
        "id": "I32Ym0WzIVlp",
        "outputId": "04aa2c4a-d712-4f9a-bba6-3f6e382de515"
      },
      "source": [
        "embs.shape"
      ],
      "execution_count": 22,
      "outputs": [
        {
          "output_type": "execute_result",
          "data": {
            "text/plain": [
              "torch.Size([50000, 50])"
            ]
          },
          "metadata": {
            "tags": []
          },
          "execution_count": 22
        }
      ]
    },
    {
      "cell_type": "code",
      "metadata": {
        "id": "hStl2tmiJesV"
      },
      "source": [
        "cnn_train_x, cnn_train_y = read_data(trainingFile, cnn_vocab, labels)\n",
        "cnn_dev_x, cnn_dev_y = read_data(devFile, cnn_vocab, labels)"
      ],
      "execution_count": 23,
      "outputs": []
    },
    {
      "cell_type": "code",
      "metadata": {
        "id": "gZNvT-REJgv1"
      },
      "source": [
        "cnn_trainX, cnn_trainY=get_batches(cnn_train_x, cnn_train_y, torch.LongTensor)\n",
        "cnn_devX, cnn_devY=get_batches(cnn_dev_x, cnn_dev_y, torch.LongTensor)\n"
      ],
      "execution_count": 24,
      "outputs": []
    },
    {
      "cell_type": "code",
      "metadata": {
        "id": "LDGz8mqdJjic"
      },
      "source": [
        "class CNNClassifier(nn.Module):\n",
        "\n",
        "   def __init__(self, params, pretrained_embeddings):\n",
        "      super().__init__()\n",
        "      self.seq_len = params[\"max_seq_len\"]\n",
        "      self.num_labels = params[\"label_length\"]\n",
        "      \n",
        "      '''\n",
        "      Initialize the following layers according to the hw spec\n",
        "      '''\n",
        "      self.embeddings = nn.Embedding.from_pretrained(pretrained_embeddings)\n",
        "      \n",
        "      # convolution over 1 word\n",
        "      self.conv_1 = nn.Conv1d(in_channels=50, out_channels=50, kernel_size=1, stride=1)\n",
        "      self.pool_1 = nn.MaxPool1d(kernel_size=549)\n",
        "\n",
        "      # convolution over 2 words    \n",
        "      self.conv_2 = nn.Conv1d(in_channels=50, out_channels=50, kernel_size=2, stride=1)\n",
        "      self.pool_2 = nn.MaxPool1d(kernel_size=548)\n",
        "        \n",
        "      # convolution over 3 words\n",
        "      self.conv_3 = nn.Conv1d(in_channels=50, out_channels=50, kernel_size=3, stride=1)\n",
        "      self.pool_3 = nn.MaxPool1d(kernel_size=547)\n",
        "      \n",
        "      # fully-connected layer\n",
        "      self.fc = nn.Linear(50*3, self.num_labels)\n",
        "\n",
        "\n",
        "    \n",
        "   def forward(self, input): \n",
        "      #embeds the input sequences\n",
        "      x0 = self.embeddings(input)\n",
        "      #changes dimensions to be consistent with conv1d\n",
        "      #from (batch, length, dimensions) to (batch, dimensions, length)\n",
        "      x0 = x0.permute(0, 2, 1)\n",
        "\n",
        "      '''\n",
        "      Create the hidden representations according to the hw spec\n",
        "      '''\n",
        "      #Apply the one-word convolution, tanh, and pool\n",
        "      x1 = torch.tanh(self.conv_1(x0)) # 12, 50, 529\n",
        "      # print('x1 size:', x1.shape)\n",
        "      x1 = self.pool_1(x1) # 12, 50, 1\n",
        "      # print('x1 size:', x1.shape)\n",
        "    \n",
        "      #Apply the two-word convolution, tanh, and pool\n",
        "      x2 = torch.tanh(self.conv_2(x0)) # 12, 50, 528\n",
        "      # print('x2 size:', x2.shape)\n",
        "      x2 = self.pool_2(x2) # 12, 50, 1\n",
        "      # print('x2 size:', x2.shape)\n",
        "        \n",
        "      #Apply the three-word convolution, tanh, and pool\n",
        "      x3 = torch.tanh(self.conv_3(x0)) # 12, 50, 527\n",
        "      # print('x3 size:', x3.shape)\n",
        "      x3 = self.pool_3(x3) # 12, 50, 1\n",
        "      # print('x3 size:', x3.shape)\n",
        "\n",
        "      #Concatenates the output of all 3 convolution layers\n",
        "      combined= torch.cat([x1, x2, x3], axis= 1) # 12, 150, 1\n",
        "      combined = combined.permute(0,2,1) # 12, 1, 150\n",
        "      # print('combined size:', combined.shape)\n",
        "\n",
        "      #Connects the combined output to the fully-connected layer\n",
        "      out = self.fc(combined)\n",
        "      return out.squeeze()\n",
        "\n",
        "   def evaluate(self, x, y):\n",
        "      \n",
        "      self.eval()\n",
        "      corr = 0.\n",
        "      total = 0.\n",
        "\n",
        "      with torch.no_grad():\n",
        "\n",
        "        for x, y in zip(x, y):\n",
        "          y_preds=self.forward(x)\n",
        "          for idx, y_pred in enumerate(y_preds):\n",
        "              prediction=torch.argmax(y_pred)\n",
        "              if prediction == y[idx]:\n",
        "                corr += 1.\n",
        "              total+=1                          \n",
        "      return corr/total\n",
        "\n"
      ],
      "execution_count": 57,
      "outputs": []
    },
    {
      "cell_type": "code",
      "metadata": {
        "id": "DxrBo0N0JlGM",
        "colab": {
          "base_uri": "https://localhost:8080/"
        },
        "outputId": "b9a3909f-5899-4271-dab4-29e043defe02"
      },
      "source": [
        "embs, cnn_vocab = read_embeddings(\"glove.6B.50d.50K.txt\")\n",
        "cnnmodel = CNNClassifier(params={\"max_seq_len\": 549, \"label_length\": len(labels)}, pretrained_embeddings=embs)\n",
        "optimizer = torch.optim.Adam(cnnmodel.parameters(), lr=0.001, weight_decay=1e-5)\n",
        "losses = []\n",
        "cross_entropy=nn.CrossEntropyLoss()\n",
        "\n",
        "num_epochs=25\n",
        "best_dev_acc = 0.\n",
        "\n",
        "for epoch in range(num_epochs):\n",
        "    cnnmodel.train()\n",
        "\n",
        "    for x, y in zip(cnn_trainX, cnn_trainY):\n",
        "      y_pred = cnnmodel.forward(x)\n",
        "      loss = cross_entropy(y_pred.view(-1, cnnmodel.num_labels), y.view(-1))\n",
        "      losses.append(loss) \n",
        "      optimizer.zero_grad()\n",
        "      loss.backward()\n",
        "      optimizer.step()\n",
        "    dev_accuracy=cnnmodel.evaluate(cnn_devX, cnn_devY)\n",
        "    if epoch % 1 == 0:\n",
        "        print(\"Epoch %s, dev accuracy: %.3f\" % (epoch, dev_accuracy))\n",
        "        if dev_accuracy > best_dev_acc:\n",
        "          torch.save(cnnmodel.state_dict(), 'best-cnnmodel-parameters.pt')\n",
        "          best_dev_acc = dev_accuracy\n",
        "\n",
        "cnnmodel.load_state_dict(torch.load('best-cnnmodel-parameters.pt'))\n",
        "print(\"\\nBest Performing Model achieves dev accuracy of : %.3f\" % (best_dev_acc))"
      ],
      "execution_count": 58,
      "outputs": [
        {
          "output_type": "stream",
          "text": [
            "Epoch 0, dev accuracy: 0.131\n",
            "Epoch 1, dev accuracy: 0.180\n",
            "Epoch 2, dev accuracy: 0.271\n",
            "Epoch 3, dev accuracy: 0.343\n",
            "Epoch 4, dev accuracy: 0.360\n",
            "Epoch 5, dev accuracy: 0.374\n",
            "Epoch 6, dev accuracy: 0.389\n",
            "Epoch 7, dev accuracy: 0.414\n",
            "Epoch 8, dev accuracy: 0.423\n",
            "Epoch 9, dev accuracy: 0.440\n",
            "Epoch 10, dev accuracy: 0.446\n",
            "Epoch 11, dev accuracy: 0.449\n",
            "Epoch 12, dev accuracy: 0.449\n",
            "Epoch 13, dev accuracy: 0.457\n",
            "Epoch 14, dev accuracy: 0.460\n",
            "Epoch 15, dev accuracy: 0.451\n",
            "Epoch 16, dev accuracy: 0.457\n",
            "Epoch 17, dev accuracy: 0.460\n",
            "Epoch 18, dev accuracy: 0.460\n",
            "Epoch 19, dev accuracy: 0.474\n",
            "Epoch 20, dev accuracy: 0.471\n",
            "Epoch 21, dev accuracy: 0.469\n",
            "Epoch 22, dev accuracy: 0.474\n",
            "Epoch 23, dev accuracy: 0.474\n",
            "Epoch 24, dev accuracy: 0.469\n",
            "\n",
            "Best Performing Model achieves dev accuracy of : 0.474\n"
          ],
          "name": "stdout"
        }
      ]
    },
    {
      "cell_type": "markdown",
      "metadata": {
        "id": "8j5kM7T5T69d"
      },
      "source": [
        "# Model Exploration"
      ]
    },
    {
      "cell_type": "markdown",
      "metadata": {
        "id": "j7u2MerXT9fb"
      },
      "source": [
        "## Loss Examination\n",
        "To debug your model and ensure it is updating correctly, it may be helpful to visualize your training loss.  The following code plots loss over epoch.  This should decrease as the model trains and eventually converge.  If your training loss is not decreasing, you might not be initializing your model or creating your forward() pass correctly."
      ]
    },
    {
      "cell_type": "code",
      "metadata": {
        "id": "0W1WDYkfrdLX",
        "colab": {
          "base_uri": "https://localhost:8080/",
          "height": 281
        },
        "outputId": "4e269d4f-1e58-4bb3-803b-c105a99df1d2"
      },
      "source": [
        "import matplotlib.pyplot as plt\n",
        "plt.plot(range(len(losses)), losses)\n",
        "plt.title(\"Training Loss over Time\")\n",
        "plt.show()"
      ],
      "execution_count": 59,
      "outputs": [
        {
          "output_type": "display_data",
          "data": {
            "image/png": "[encoded data removed]",
            "text/plain": [
              "<Figure size 432x288 with 1 Axes>"
            ]
          },
          "metadata": {
            "tags": [],
            "needs_background": "light"
          }
        }
      ]
    },
    {
      "cell_type": "markdown",
      "metadata": {
        "id": "JjSCeYlpcw9v"
      },
      "source": [
        "# Deliverable 2: Explore NLP articles\n",
        "Now that you have your CNN trained, let's go ahead and make predictions for all of the 7,188 abstracts in our full dataset of NLP papers published between 2013-2020. "
      ]
    },
    {
      "cell_type": "code",
      "metadata": {
        "id": "X55A-oFlaSaE",
        "colab": {
          "base_uri": "https://localhost:8080/"
        },
        "outputId": "2dfd2b9e-f993-47bf-a664-898738cf51d1"
      },
      "source": [
        "!wget https://raw.githubusercontent.com/dbamman/nlp21/main/HW3/acl.all.tsv"
      ],
      "execution_count": 60,
      "outputs": [
        {
          "output_type": "stream",
          "text": [
            "--2021-02-10 21:25:59--  https://raw.githubusercontent.com/dbamman/nlp21/main/HW3/acl.all.tsv\n",
            "Resolving raw.githubusercontent.com (raw.githubusercontent.com)... 185.199.108.133, 185.199.109.133, 185.199.110.133, ...\n",
            "Connecting to raw.githubusercontent.com (raw.githubusercontent.com)|185.199.108.133|:443... connected.\n",
            "HTTP request sent, awaiting response... 200 OK\n",
            "Length: 7388302 (7.0M) [text/plain]\n",
            "Saving to: ‘acl.all.tsv’\n",
            "\n",
            "\racl.all.tsv           0%[                    ]       0  --.-KB/s               \racl.all.tsv         100%[===================>]   7.05M  --.-KB/s    in 0.07s   \n",
            "\n",
            "2021-02-10 21:25:59 (100 MB/s) - ‘acl.all.tsv’ saved [7388302/7388302]\n",
            "\n"
          ],
          "name": "stdout"
        }
      ]
    },
    {
      "cell_type": "code",
      "metadata": {
        "id": "yC-1-sXdOn2g"
      },
      "source": [
        "def read_prediction_data(filename, vocab):\n",
        "    \"\"\"\n",
        "    :param filename: the name of the file\n",
        "    :return: list of tuple ([word index list], label)\n",
        "    as input for the forward and backward function\n",
        "    \"\"\"    \n",
        "    data = []\n",
        "    data_dates = []\n",
        "    file = open(filename)\n",
        "    for line in file:\n",
        "        cols = line.split(\"\\t\")\n",
        "        idd = cols[0]\n",
        "        year = int(cols[1])\n",
        "        title = cols[2]\n",
        "        abstract = cols[3]\n",
        "        w_int = []\n",
        "        for w in nltk.word_tokenize(title.lower()):\n",
        "            # skip the unknown words\n",
        "            if w in vocab:\n",
        "                w_int.append(vocab[w])\n",
        "            else:\n",
        "                w_int.append(UNKNOWN_INDEX)\n",
        "        w_int.append(SEP_INDEX)\n",
        "        w_int.append(SEP_INDEX)\n",
        "        for w in nltk.word_tokenize(abstract.lower()):\n",
        "            # skip the unknown words\n",
        "            if w in vocab:\n",
        "                w_int.append(vocab[w])\n",
        "            else:\n",
        "                w_int.append(UNKNOWN_INDEX)\n",
        "        data_lens.append(len(w_int))\n",
        "        if len(w_int) < 549:\n",
        "            w_int.extend([PAD_INDEX] * (549 - len(w_int)))\n",
        "        if len(w_int) < 550:\n",
        "          data.append((w_int))\n",
        "          data_dates.append(year)\n",
        "    file.close()\n",
        "    return data, data_dates"
      ],
      "execution_count": 61,
      "outputs": []
    },
    {
      "cell_type": "code",
      "metadata": {
        "id": "btuKqE8LN6yS"
      },
      "source": [
        "predictFile=\"acl.all.tsv\"\n",
        "cnn_test_x, cnn_test_dates = read_prediction_data(predictFile, cnn_vocab)\n",
        "cnn_predictX, cnn_predictDates=get_batches(cnn_test_x, cnn_test_dates, torch.LongTensor, batch_size=256)"
      ],
      "execution_count": 62,
      "outputs": []
    },
    {
      "cell_type": "code",
      "metadata": {
        "id": "ZRa093KsPUYH"
      },
      "source": [
        "reverse_labels={labels[k]:k for k in labels}"
      ],
      "execution_count": 63,
      "outputs": []
    },
    {
      "cell_type": "code",
      "metadata": {
        "colab": {
          "base_uri": "https://localhost:8080/"
        },
        "id": "RwVNbIAeTOA5",
        "outputId": "70075940-3593-457d-b52f-419b94ddaae6"
      },
      "source": [
        "reverse_labels"
      ],
      "execution_count": 118,
      "outputs": [
        {
          "output_type": "execute_result",
          "data": {
            "text/plain": [
              "{0: 'SENTSEM',\n",
              " 1: 'MLCLASS',\n",
              " 2: 'SUMM',\n",
              " 3: 'MULTILING',\n",
              " 4: 'MT',\n",
              " 5: 'PHON',\n",
              " 6: 'IE',\n",
              " 7: 'LEXSEM',\n",
              " 8: 'ETHICS',\n",
              " 9: 'GENERATION',\n",
              " 10: 'INTERPRET',\n",
              " 11: 'APPLICATIONS',\n",
              " 12: 'DIALOGUE',\n",
              " 13: 'DISCOURSE',\n",
              " 14: 'RESOURCES',\n",
              " 15: 'GREEN',\n",
              " 16: 'MLLM',\n",
              " 17: 'QA',\n",
              " 18: 'GROUNDING',\n",
              " 19: 'SPEECH',\n",
              " 20: 'SYNTAX',\n",
              " 21: 'SA',\n",
              " 22: 'IR',\n",
              " 23: 'CSSCA',\n",
              " 24: 'LING',\n",
              " 25: 'OTHER'}"
            ]
          },
          "metadata": {
            "tags": []
          },
          "execution_count": 118
        }
      ]
    },
    {
      "cell_type": "markdown",
      "metadata": {
        "id": "qzNnW1HHdhFO"
      },
      "source": [
        "Now let's make predictions on all of that data with your trained `cnnmodel`."
      ]
    },
    {
      "cell_type": "code",
      "metadata": {
        "id": "mqpEWS69Oi8i"
      },
      "source": [
        "with torch.no_grad():\n",
        "\n",
        "  all_dates=[]\n",
        "  all_preds=[]\n",
        "  for x, y in zip(cnn_predictX, cnn_predictDates):\n",
        "    y_preds=cnnmodel.forward(x)\n",
        "    for idx, y_pred in enumerate(y_preds):\n",
        "        prediction=int(torch.argmax(y_pred))\n",
        "        all_dates.append(int(y[idx]))\n",
        "        all_preds.append(prediction)"
      ],
      "execution_count": 64,
      "outputs": []
    },
    {
      "cell_type": "markdown",
      "metadata": {
        "id": "kvabtt6XdLnl"
      },
      "source": [
        "What are the most frequent categories among our predictions?"
      ]
    },
    {
      "cell_type": "code",
      "metadata": {
        "id": "Qvbk-FBnO_aD",
        "colab": {
          "base_uri": "https://localhost:8080/"
        },
        "outputId": "d20b9933-a7a0-4a17-9cbf-6e21ee81d5e1"
      },
      "source": [
        "from collections import Counter\n",
        "cat_counts=Counter()\n",
        "for val in all_preds:\n",
        "  cat_counts[val]+=1\n",
        "\n",
        "for k,v in cat_counts.most_common():\n",
        "  print(v, reverse_labels[k])"
      ],
      "execution_count": 65,
      "outputs": [
        {
          "output_type": "stream",
          "text": [
            "654 MT\n",
            "599 SENTSEM\n",
            "558 MULTILING\n",
            "524 QA\n",
            "500 APPLICATIONS\n",
            "489 DIALOGUE\n",
            "476 IE\n",
            "420 RESOURCES\n",
            "414 MLCLASS\n",
            "356 SA\n",
            "336 MLLM\n",
            "331 GENERATION\n",
            "267 INTERPRET\n",
            "242 SUMM\n",
            "217 GROUNDING\n",
            "170 LEXSEM\n",
            "153 SYNTAX\n",
            "89 ETHICS\n",
            "86 DISCOURSE\n",
            "80 GREEN\n",
            "72 CSSCA\n",
            "57 PHON\n",
            "37 SPEECH\n",
            "35 LING\n",
            "21 IR\n",
            "3 OTHER\n"
          ],
          "name": "stdout"
        }
      ]
    },
    {
      "cell_type": "markdown",
      "metadata": {
        "id": "ryVHtoQXdPFs"
      },
      "source": [
        "Now let's plot the frequency with which any given category appears over time by aggregating those predictions by the year in which the corresponding papers were published."
      ]
    },
    {
      "cell_type": "code",
      "metadata": {
        "id": "NRGk370CPxXx"
      },
      "source": [
        "minYear=min(all_dates)\n",
        "maxYear=max(all_dates)\n",
        "counts=np.zeros((maxYear-minYear+1, len(labels)))\n",
        "for year, pred in zip(all_dates, all_preds):\n",
        "  counts[year-minYear][pred]+=1\n",
        "counts=counts/np.sum(counts,axis=1)[:, np.newaxis]"
      ],
      "execution_count": 66,
      "outputs": []
    },
    {
      "cell_type": "code",
      "metadata": {
        "colab": {
          "base_uri": "https://localhost:8080/"
        },
        "id": "bcygQynEVA2N",
        "outputId": "3f3a5191-5823-495d-da78-9a99c7eff250"
      },
      "source": [
        "counts"
      ],
      "execution_count": 120,
      "outputs": [
        {
          "output_type": "execute_result",
          "data": {
            "text/plain": [
              "array([[0.05714286, 0.        , 0.        , 0.08571429, 0.11428571,\n",
              "        0.        , 0.02857143, 0.08571429, 0.        , 0.        ,\n",
              "        0.02857143, 0.05714286, 0.        , 0.02857143, 0.02857143,\n",
              "        0.        , 0.08571429, 0.05714286, 0.08571429, 0.02857143,\n",
              "        0.17142857, 0.02857143, 0.        , 0.        , 0.02857143,\n",
              "        0.        ],\n",
              "       [0.19607843, 0.05882353, 0.        , 0.1372549 , 0.05882353,\n",
              "        0.03921569, 0.01960784, 0.01960784, 0.        , 0.        ,\n",
              "        0.01960784, 0.07843137, 0.        , 0.        , 0.11764706,\n",
              "        0.        , 0.01960784, 0.01960784, 0.07843137, 0.03921569,\n",
              "        0.03921569, 0.05882353, 0.        , 0.        , 0.        ,\n",
              "        0.        ],\n",
              "       [0.24      , 0.06      , 0.02      , 0.02      , 0.04      ,\n",
              "        0.02      , 0.12      , 0.1       , 0.        , 0.        ,\n",
              "        0.06      , 0.1       , 0.        , 0.04      , 0.08      ,\n",
              "        0.        , 0.02      , 0.02      , 0.02      , 0.        ,\n",
              "        0.04      , 0.        , 0.        , 0.        , 0.        ,\n",
              "        0.        ],\n",
              "       [0.22641509, 0.05660377, 0.01886792, 0.13207547, 0.09433962,\n",
              "        0.        , 0.03773585, 0.05660377, 0.        , 0.01886792,\n",
              "        0.0754717 , 0.01886792, 0.01886792, 0.        , 0.01886792,\n",
              "        0.        , 0.09433962, 0.01886792, 0.01886792, 0.01886792,\n",
              "        0.01886792, 0.05660377, 0.        , 0.        , 0.        ,\n",
              "        0.        ],\n",
              "       [0.09656453, 0.05292479, 0.02042711, 0.08635097, 0.09656453,\n",
              "        0.01578459, 0.07428041, 0.05106778, 0.00557103, 0.02692665,\n",
              "        0.01578459, 0.08263695, 0.04921077, 0.01392758, 0.06128134,\n",
              "        0.00742804, 0.03064067, 0.06499536, 0.02228412, 0.00371402,\n",
              "        0.03806871, 0.05849582, 0.00371402, 0.01299907, 0.00835655,\n",
              "        0.        ],\n",
              "       [0.098922  , 0.06658212, 0.03614458, 0.06531389, 0.09575143,\n",
              "        0.00887762, 0.06404566, 0.02029169, 0.00887762, 0.0412175 ,\n",
              "        0.01965758, 0.0741915 , 0.06150919, 0.01268231, 0.04882689,\n",
              "        0.01077996, 0.03994927, 0.07863031, 0.03424223, 0.00507292,\n",
              "        0.02726696, 0.06150919, 0.00253646, 0.01077996, 0.00507292,\n",
              "        0.00126823],\n",
              "       [0.07069914, 0.05930872, 0.03967007, 0.07776905, 0.09230165,\n",
              "        0.00628437, 0.06952082, 0.01846033, 0.01413983, 0.04988217,\n",
              "        0.03967007, 0.0683425 , 0.07619796, 0.01178319, 0.06087981,\n",
              "        0.00942655, 0.04595444, 0.07776905, 0.03181461, 0.00510605,\n",
              "        0.01296151, 0.04713276, 0.00314218, 0.00903378, 0.00274941,\n",
              "        0.        ],\n",
              "       [0.06844741, 0.05119644, 0.03338898, 0.08124652, 0.08347245,\n",
              "        0.00389538, 0.06010017, 0.01335559, 0.01836394, 0.06065665,\n",
              "        0.06065665, 0.06010017, 0.08013356, 0.01001669, 0.06121313,\n",
              "        0.01725097, 0.06288258, 0.07067334, 0.02726767, 0.00445186,\n",
              "        0.01391208, 0.03839733, 0.00278242, 0.01001669, 0.00556483,\n",
              "        0.00055648]])"
            ]
          },
          "metadata": {
            "tags": []
          },
          "execution_count": 120
        }
      ]
    },
    {
      "cell_type": "code",
      "metadata": {
        "id": "V14d_5zxQZRC"
      },
      "source": [
        "import matplotlib.pyplot as plt\n",
        "\n",
        "def plot_category(cats, labels):\n",
        "  for cat in cats:\n",
        "    data=[]\n",
        "    for idx, val in enumerate(counts[:,labels[cat]]):\n",
        "      data.append(val)\n",
        "    plt.plot(range(2013,2021), data)\n",
        "  plt.legend(cats)\n",
        "  plt.show()\n"
      ],
      "execution_count": 67,
      "outputs": []
    },
    {
      "cell_type": "code",
      "metadata": {
        "id": "3GaSa5V0Qx-F",
        "colab": {
          "base_uri": "https://localhost:8080/",
          "height": 269
        },
        "outputId": "24f133e0-9900-4126-f81f-ae41808f5868"
      },
      "source": [
        "plot_category([\"MT\", \"SA\", \"GENERATION\", \"ETHICS\"], labels)"
      ],
      "execution_count": 68,
      "outputs": [
        {
          "output_type": "display_data",
          "data": {
            "image/png": "[encoded data removed]",
            "text/plain": [
              "<Figure size 432x288 with 1 Axes>"
            ]
          },
          "metadata": {
            "tags": [],
            "needs_background": "light"
          }
        }
      ]
    },
    {
      "cell_type": "markdown",
      "metadata": {
        "id": "nAW6FujgeUOb"
      },
      "source": [
        "Should we trust these results as reflecting trends in the attention the ACL community gives to these topics?  Think about the potential biases that might exist in this method and the results, especially given your experience in creating this dataset.  Explore this model and data with whatever methods you think would help your argument -- e.g., try plotting a confusion matrix over the development data to see which classes are being confused, examine the data points that have the highest confidence wrong predictions, etc.).  How would you go about interrogating this method to know whether to trust these findings?  Submit your <200 word answer to this question as a PDF on gradescope.\n"
      ]
    },
    {
      "cell_type": "code",
      "metadata": {
        "colab": {
          "base_uri": "https://localhost:8080/"
        },
        "id": "WglfduhuCNru",
        "outputId": "1d4733be-e1d7-487b-f623-e5f39626f386"
      },
      "source": [
        "# prediction labels for dev data\n",
        "def getDevYPreds(model, x, y):\n",
        "  model.eval()\n",
        "  y_dev_preds = []\n",
        "  with torch.no_grad():\n",
        "    for x, y in zip(x, y):\n",
        "      y_predicts = model.forward(x)\n",
        "      y_dev_preds.append(torch.argmax(y_predicts, 1))\n",
        "  return y_dev_preds\n",
        "\n",
        "cnn_devY_preds = getDevYPreds(cnnmodel, cnn_devX, cnn_devY)\n",
        "cnn_devY_preds"
      ],
      "execution_count": 143,
      "outputs": [
        {
          "output_type": "execute_result",
          "data": {
            "text/plain": [
              "[tensor([14, 10, 17,  0,  0, 20,  4, 14, 21,  8,  0,  3]),\n",
              " tensor([ 0,  9,  3, 15,  8, 17,  6,  2, 12,  3,  3,  9]),\n",
              " tensor([16, 20, 20, 17, 21,  6,  3, 21,  3,  6,  4,  8]),\n",
              " tensor([14, 10, 11, 23, 10, 17, 14, 11,  2, 12, 21, 12]),\n",
              " tensor([20,  2,  0,  6,  4,  0,  0,  4, 24, 17,  6, 21]),\n",
              " tensor([ 0, 12, 16,  4,  0, 12,  4, 11, 18, 18, 10, 21]),\n",
              " tensor([14, 11, 20,  0, 13,  4,  0,  0,  3,  2,  8, 12]),\n",
              " tensor([21,  4,  6, 17, 12, 11, 10, 12, 10,  4, 12, 10]),\n",
              " tensor([17, 21, 11,  0,  7,  6,  0,  2,  0, 12, 18, 12]),\n",
              " tensor([ 6, 12,  0,  0,  0, 14, 16, 21,  6, 15, 17, 16]),\n",
              " tensor([ 8,  9,  4,  2,  3, 21, 18, 12,  4, 12, 11, 21]),\n",
              " tensor([ 0,  3,  0, 11,  0, 23,  0,  2,  2, 14, 17, 13]),\n",
              " tensor([ 1, 16,  2, 12, 14, 17, 14,  3,  3,  6, 21, 21]),\n",
              " tensor([ 2, 23, 14, 12,  3,  5,  9,  6,  2, 18, 20,  1]),\n",
              " tensor([20,  4,  9,  6,  3, 20,  6,  1, 19, 18,  6, 17]),\n",
              " tensor([21,  3, 18, 20, 14,  3,  6,  4, 10, 15, 13,  9]),\n",
              " tensor([18, 18, 17, 12,  0,  3,  6, 12, 12, 10,  2, 11]),\n",
              " tensor([ 4,  4,  4,  2,  3, 11,  0, 12,  4, 17, 23,  6]),\n",
              " tensor([ 4, 10, 16, 10, 19, 17, 11, 16,  0, 17,  2, 20]),\n",
              " tensor([14,  4,  6,  3, 11, 23, 11, 11,  6, 18,  1,  0]),\n",
              " tensor([12, 12,  0,  3,  4,  2,  4,  0, 12,  6,  3, 15]),\n",
              " tensor([21,  2, 10,  0,  1,  4, 16, 21, 12,  4,  6,  1]),\n",
              " tensor([21, 16, 10, 14, 21, 12, 16,  1,  8,  3, 11,  3]),\n",
              " tensor([ 6,  4, 14,  2,  6, 20, 21, 10, 10,  4,  3,  4]),\n",
              " tensor([10,  9,  3, 12,  6, 23, 14, 17, 23,  4,  4,  3]),\n",
              " tensor([ 2,  4,  4,  4,  6, 21, 20,  7, 16, 17,  1, 17]),\n",
              " tensor([ 4, 21,  3,  4,  9, 11, 16, 18, 21, 16, 12,  4]),\n",
              " tensor([21, 11, 17,  4, 16, 16, 14, 21, 16,  3,  0, 20]),\n",
              " tensor([10,  7,  9,  1,  9,  9, 10,  0,  4, 14, 11,  3]),\n",
              " tensor([14, 16])]"
            ]
          },
          "metadata": {
            "tags": []
          },
          "execution_count": 143
        }
      ]
    },
    {
      "cell_type": "code",
      "metadata": {
        "colab": {
          "base_uri": "https://localhost:8080/"
        },
        "id": "aVi11wBQ-D1_",
        "outputId": "a8ac4b97-2ec1-448f-8405-ef642a247c51"
      },
      "source": [
        "# true labels for dev data\n",
        "cnn_devY"
      ],
      "execution_count": 144,
      "outputs": [
        {
          "output_type": "execute_result",
          "data": {
            "text/plain": [
              "[tensor([14,  7, 17,  1,  0, 20,  4, 15, 21, 23,  0,  4]),\n",
              " tensor([ 2,  2,  3, 15,  6, 17, 21,  2, 12,  3,  3,  9]),\n",
              " tensor([ 7,  0, 20, 17, 21,  1,  3, 21,  7,  6,  4,  8]),\n",
              " tensor([ 1,  8, 14, 23, 18,  6, 11, 23,  2, 12,  7, 18]),\n",
              " tensor([ 1,  2, 20, 11,  4, 15,  0,  4,  1,  9,  6, 21]),\n",
              " tensor([15, 12,  0,  0,  7,  3,  4,  7, 18,  6,  8,  1]),\n",
              " tensor([ 7,  2, 20,  0, 13,  4,  7, 20, 14,  2, 23, 12]),\n",
              " tensor([21,  4,  6,  3, 12, 11,  5, 12, 22,  4, 15, 20]),\n",
              " tensor([17, 21, 23, 24,  2,  6,  2,  2, 10, 12, 18, 12]),\n",
              " tensor([ 6,  1,  7,  7,  2, 14, 16, 16,  1, 17, 17, 18]),\n",
              " tensor([ 8,  5,  4,  0,  1, 11, 18, 12,  4, 17, 23, 21]),\n",
              " tensor([20, 24,  0,  2,  0, 11,  0,  2,  2,  6, 17, 17]),\n",
              " tensor([11, 16,  2, 14,  1, 17, 14,  3,  8,  6,  1, 11]),\n",
              " tensor([20, 12, 17, 12, 16,  5,  9,  6,  2,  0,  1,  1]),\n",
              " tensor([10,  4, 20,  6,  3, 20, 14, 22, 24, 10, 20, 17]),\n",
              " tensor([ 1,  3, 18,  1, 23,  2,  6,  4, 15,  1, 13,  9]),\n",
              " tensor([18, 18, 17, 12,  0,  5, 11,  9,  9,  8,  2, 18]),\n",
              " tensor([ 4,  2, 11,  2, 16, 11,  0, 18,  4,  0, 23,  6]),\n",
              " tensor([ 4,  9,  0, 10,  5,  6, 23, 23, 16, 15,  2,  1]),\n",
              " tensor([ 1,  4,  6,  3, 11, 23, 23, 11,  6, 18, 17, 11]),\n",
              " tensor([17, 12,  5,  0,  4,  4,  4,  1, 12, 22,  3,  4]),\n",
              " tensor([17,  0, 16,  0, 22,  4,  1, 21, 19, 13,  6,  1]),\n",
              " tensor([ 3, 14, 13,  7,  1, 17, 14,  1,  8,  3,  1,  5]),\n",
              " tensor([ 6,  4, 13,  2,  6, 16,  1,  1,  1, 10, 24,  8]),\n",
              " tensor([ 1,  6,  3, 12,  6, 24,  7, 17, 11, 15,  4,  3]),\n",
              " tensor([ 2,  4, 10, 22,  6,  1, 20, 15,  2, 17,  1, 17]),\n",
              " tensor([ 9,  1,  3,  4, 21,  6, 14, 21, 21, 13, 18,  4]),\n",
              " tensor([21, 11, 17,  4, 16, 16,  1, 21,  4, 17, 10,  5]),\n",
              " tensor([14,  7,  6,  8,  2,  9,  8,  0,  4, 14, 11,  3]),\n",
              " tensor([ 8, 15])]"
            ]
          },
          "metadata": {
            "tags": []
          },
          "execution_count": 144
        }
      ]
    },
    {
      "cell_type": "code",
      "metadata": {
        "id": "At9S3rullwpB"
      },
      "source": [
        "# flatten the list of tensors to a long tensor\n",
        "preds = torch.cat(cnn_devY_preds, dim=0)\n",
        "trus = torch.cat(cnn_devY, dim=0)"
      ],
      "execution_count": 157,
      "outputs": []
    },
    {
      "cell_type": "code",
      "metadata": {
        "id": "7P87NeFgjLdc"
      },
      "source": [
        "import tensorflow.math as tfmath"
      ],
      "execution_count": 190,
      "outputs": []
    },
    {
      "cell_type": "code",
      "metadata": {
        "id": "FSSYxQDHjetI"
      },
      "source": [
        "# confusion matrix\n",
        "cm = tfmath.confusion_matrix(trus, preds, num_classes=26)"
      ],
      "execution_count": 191,
      "outputs": []
    },
    {
      "cell_type": "code",
      "metadata": {
        "id": "jXUDcFnakl6y"
      },
      "source": [
        "# print confusion matrix with tensor, source code: https://deeplizard.com/learn/video/0LhiS6yu2qQ\n",
        "import itertools\n",
        "import numpy as np\n",
        "import matplotlib.pyplot as plt\n",
        "\n",
        "def plot_confusion_matrix(cm, classes, normalize=False, title='Confusion matrix', cmap=plt.cm.Blues):\n",
        "    if normalize:\n",
        "        cm = cm.astype('float') / cm.sum(axis=1)[:, np.newaxis]\n",
        "        print(\"Normalized confusion matrix\")\n",
        "    else:\n",
        "        print('Confusion matrix, without normalization')\n",
        "\n",
        "    print(cm)\n",
        "    plt.figure(figsize=(12,12))\n",
        "    plt.imshow(cm, interpolation='nearest', cmap=cmap)\n",
        "    plt.title(title)\n",
        "    plt.colorbar()\n",
        "    tick_marks = np.arange(len(classes))\n",
        "    plt.xticks(tick_marks, classes, rotation=45)\n",
        "    plt.yticks(tick_marks, classes)\n",
        "\n",
        "    fmt = '.2f' if normalize else 'd'\n",
        "    # thresh = cm.max() / 2.\n",
        "    for i, j in itertools.product(range(cm.shape[0]), range(cm.shape[1])):\n",
        "        plt.text(j, i, format(cm[i, j], fmt), horizontalalignment=\"center\", color=\"white\")\n",
        "    # if cm[i, j] > thresh else \"black\"\n",
        "    plt.tight_layout()\n",
        "    plt.ylabel('True label')\n",
        "    plt.xlabel('Predicted label')"
      ],
      "execution_count": 182,
      "outputs": []
    },
    {
      "cell_type": "code",
      "metadata": {
        "colab": {
          "base_uri": "https://localhost:8080/",
          "height": 1000
        },
        "id": "5UUf3quQorBU",
        "outputId": "9443bfde-0bca-4ea4-c438-ae96448effa8"
      },
      "source": [
        "plot_confusion_matrix(cm, classes=range(0,26))"
      ],
      "execution_count": 183,
      "outputs": [
        {
          "output_type": "stream",
          "text": [
            "Confusion matrix, without normalization\n",
            "tf.Tensor(\n",
            "[[11  0  2  1  1  0  0  0  0  0  0  0  0  0  0  0  2  1  1  0  1  0  0  0\n",
            "   0  0]\n",
            " [ 2  4  0  1  0  0  2  0  0  0  3  1  1  0  4  1  1  0  0  0  4  7  0  0\n",
            "   1  0]\n",
            " [ 3  0 14  1  1  0  0  1  0  2  0  2  0  0  0  0  1  0  0  0  0  0  0  0\n",
            "   0  0]\n",
            " [ 0  0  0 14  0  0  0  0  0  0  0  0  1  0  0  0  0  1  0  0  0  1  0  0\n",
            "   0  0]\n",
            " [ 0  0  1  1 26  0  0  0  0  0  0  0  0  0  0  1  1  0  0  0  0  0  0  0\n",
            "   0  0]\n",
            " [ 1  0  0  2  0  1  0  0  0  1  1  0  0  0  0  0  0  0  0  1  1  0  0  0\n",
            "   0  0]\n",
            " [ 0  0  0  0  0  0 17  0  1  2  0  1  0  0  1  0  0  2  1  0  0  0  0  0\n",
            "   0  0]\n",
            " [ 4  0  0  1  0  0  0  1  0  0  1  1  0  0  3  0  1  0  0  0  0  1  0  0\n",
            "   0  0]\n",
            " [ 0  1  0  1  1  0  0  0  3  0  4  0  0  0  1  0  0  0  0  0  0  0  0  0\n",
            "   0  0]\n",
            " [ 0  0  0  0  1  0  0  0  0  4  1  0  2  0  0  0  0  1  0  0  0  0  0  0\n",
            "   0  0]\n",
            " [ 2  0  0  0  2  0  0  0  0  0  1  0  0  0  0  0  0  0  1  0  1  0  0  0\n",
            "   0  0]\n",
            " [ 1  1  0  0  1  0  2  0  0  0  0  6  0  0  1  0  0  0  0  0  0  2  0  2\n",
            "   0  0]\n",
            " [ 0  0  0  0  0  0  0  0  0  0  0  0 14  0  0  0  0  0  0  0  0  0  0  1\n",
            "   0  0]\n",
            " [ 0  0  0  0  1  0  0  0  0  0  1  0  0  2  1  0  1  0  0  0  0  0  0  0\n",
            "   0  0]\n",
            " [ 0  0  0  1  0  0  1  0  0  0  1  1  1  0  4  0  3  0  0  0  0  0  0  0\n",
            "   0  0]\n",
            " [ 2  0  0  0  1  0  0  1  0  0  1  0  1  0  1  1  1  1  0  0  0  0  0  0\n",
            "   0  0]\n",
            " [ 1  0  0  2  0  0  0  0  0  0  1  0  0  0  0  0  4  0  0  0  1  1  0  0\n",
            "   0  0]\n",
            " [ 0  1  0  1  0  0  0  0  0  0  0  0  3  1  1  1  0 13  0  0  0  1  0  0\n",
            "   0  0]\n",
            " [ 0  0  0  0  0  0  0  0  0  0  1  1  3  0  0  0  1  0  7  0  0  0  0  0\n",
            "   0  0]\n",
            " [ 0  0  0  0  0  0  0  0  0  0  0  0  1  0  0  0  0  0  0  0  0  0  0  0\n",
            "   0  0]\n",
            " [ 3  0  1  0  0  0  1  0  0  1  1  0  0  0  0  0  0  0  0  0  5  0  0  0\n",
            "   0  0]\n",
            " [ 0  0  0  0  0  0  1  0  0  1  0  0  0  0  0  0  0  0  1  0  0 11  0  0\n",
            "   0  0]\n",
            " [ 0  2  0  0  1  0  1  0  0  0  1  0  0  0  0  0  0  0  0  0  0  0  0  0\n",
            "   0  0]\n",
            " [ 0  0  0  0  0  0  0  0  2  0  0  5  0  0  1  0  1  0  0  0  0  0  0  3\n",
            "   0  0]\n",
            " [ 1  0  0  2  0  0  0  0  0  0  0  0  0  0  0  0  0  0  0  1  0  0  0  1\n",
            "   0  0]\n",
            " [ 0  0  0  0  0  0  0  0  0  0  0  0  0  0  0  0  0  0  0  0  0  0  0  0\n",
            "   0  0]], shape=(26, 26), dtype=int32)\n"
          ],
          "name": "stdout"
        },
        {
          "output_type": "display_data",
          "data": {
            "image/png": "[encoded data removed]",
            "text/plain": [
              "<Figure size 864x864 with 2 Axes>"
            ]
          },
          "metadata": {
            "tags": [],
            "needs_background": "light"
          }
        }
      ]
    },
    {
      "cell_type": "code",
      "metadata": {
        "colab": {
          "base_uri": "https://localhost:8080/"
        },
        "id": "Th6fUUdPsfuW",
        "outputId": "8598e456-8bd0-46f7-9e08-777cf7ec160a"
      },
      "source": [
        "reverse_labels"
      ],
      "execution_count": 189,
      "outputs": [
        {
          "output_type": "execute_result",
          "data": {
            "text/plain": [
              "{0: 'SENTSEM',\n",
              " 1: 'MLCLASS',\n",
              " 2: 'SUMM',\n",
              " 3: 'MULTILING',\n",
              " 4: 'MT',\n",
              " 5: 'PHON',\n",
              " 6: 'IE',\n",
              " 7: 'LEXSEM',\n",
              " 8: 'ETHICS',\n",
              " 9: 'GENERATION',\n",
              " 10: 'INTERPRET',\n",
              " 11: 'APPLICATIONS',\n",
              " 12: 'DIALOGUE',\n",
              " 13: 'DISCOURSE',\n",
              " 14: 'RESOURCES',\n",
              " 15: 'GREEN',\n",
              " 16: 'MLLM',\n",
              " 17: 'QA',\n",
              " 18: 'GROUNDING',\n",
              " 19: 'SPEECH',\n",
              " 20: 'SYNTAX',\n",
              " 21: 'SA',\n",
              " 22: 'IR',\n",
              " 23: 'CSSCA',\n",
              " 24: 'LING',\n",
              " 25: 'OTHER'}"
            ]
          },
          "metadata": {
            "tags": []
          },
          "execution_count": 189
        }
      ]
    },
    {
      "cell_type": "code",
      "metadata": {
        "id": "VWAgcfWes-ba"
      },
      "source": [
        ""
      ],
      "execution_count": null,
      "outputs": []
    }
  ]
}