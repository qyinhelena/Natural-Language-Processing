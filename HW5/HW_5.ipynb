{
 "cells": [
  {
   "cell_type": "markdown",
   "metadata": {
    "id": "JZFoTZ9Rd4bP"
   },
   "source": [
    "<a href=\"https://colab.research.google.com/github/dbamman/nlp21/blob/master/HW5/HW_5.ipynb\" target=\"_parent\"><img src=\"https://colab.research.google.com/assets/colab-badge.svg\" alt=\"Open In Colab\"/></a>"
   ]
  },
  {
   "cell_type": "markdown",
   "metadata": {
    "id": "elsOqhvi9s1-"
   },
   "source": [
    "# HW 5: Sequence Labeling"
   ]
  },
  {
   "cell_type": "markdown",
   "metadata": {
    "id": "PojCEPMrMEW8"
   },
   "source": [
    "In this homework, you will be using a bigram hidden Markov model (HMM) for sequence labelling. We explore two decoding algorithms: greedy (already implemented) and Viterbi (you will be implementing this)."
   ]
  },
  {
   "cell_type": "code",
   "execution_count": 79,
   "metadata": {
    "id": "ty-7ugq3Ypop"
   },
   "outputs": [],
   "source": [
    "import numpy as np"
   ]
  },
  {
   "cell_type": "code",
   "execution_count": 80,
   "metadata": {
    "colab": {
     "base_uri": "https://localhost:8080/"
    },
    "id": "_kXha-KBBfvg",
    "outputId": "554c47a1-797d-49ee-cb72-46860593d672"
   },
   "outputs": [
    {
     "name": "stdout",
     "output_type": "stream",
     "text": [
      "--2021-03-08 04:51:23--  https://raw.githubusercontent.com/dbamman/nlp21/main/HW5/pos.train\n",
      "Resolving raw.githubusercontent.com (raw.githubusercontent.com)... 185.199.108.133, 185.199.109.133, 185.199.110.133, ...\n",
      "Connecting to raw.githubusercontent.com (raw.githubusercontent.com)|185.199.108.133|:443... connected.\n",
      "HTTP request sent, awaiting response... 200 OK\n",
      "Length: 1717454 (1.6M) [text/plain]\n",
      "Saving to: ‘pos.train.2’\n",
      "\n",
      "pos.train.2         100%[===================>]   1.64M  --.-KB/s    in 0.07s   \n",
      "\n",
      "2021-03-08 04:51:24 (23.6 MB/s) - ‘pos.train.2’ saved [1717454/1717454]\n",
      "\n"
     ]
    }
   ],
   "source": [
    "# Get data\n",
    "!wget https://raw.githubusercontent.com/dbamman/nlp21/main/HW5/pos.train"
   ]
  },
  {
   "cell_type": "code",
   "execution_count": 81,
   "metadata": {
    "id": "rfDjfeh_Yt3Z"
   },
   "outputs": [],
   "source": [
    "def read_data(filename):\n",
    "    \"\"\"\n",
    "    Helper function to read in data from a file.\n",
    "    Outputs data points (X) and labels (Y), in two arrays of the same length.\n",
    "    \"\"\"\n",
    "    sentences = []\n",
    "    tags = []\n",
    "\n",
    "    current_sentence = []\n",
    "    current_tags = []\n",
    "\n",
    "    with open(filename, encoding='utf8') as f:\n",
    "        for line in f:\n",
    "            if len(line) == 0:\n",
    "                continue\n",
    "            if line == '\\n':\n",
    "                if len(current_sentence) != 0:\n",
    "                    sentences.append(current_sentence)\n",
    "                    tags.append(current_tags)\n",
    "\n",
    "                current_sentence = []\n",
    "                current_tags = []\n",
    "            else:\n",
    "                columns = line.rstrip().split('\\t')\n",
    "                word = columns[0].lower()\n",
    "                tag = columns[1]\n",
    "\n",
    "                current_sentence.append(word)\n",
    "                current_tags.append(tag)\n",
    "\n",
    "        return sentences, tags"
   ]
  },
  {
   "cell_type": "code",
   "execution_count": 82,
   "metadata": {
    "id": "CszpS8NkYvMP"
   },
   "outputs": [],
   "source": [
    "def create_vocab(train_x, train_y):\n",
    "    \"\"\"\n",
    "    Outputs two dictionaries:\n",
    "    (1) mapping each vocab word to an index of 0 thru LEN(TRAIN_X)-1\n",
    "    (2) mapping each tag to an index of 0 thru LEN(TRAIN_Y)-1\n",
    "    \"\"\"\n",
    "    x_vocab = {}\n",
    "    y_vocab = {}\n",
    "    for xs, ys in zip(train_x, train_y):\n",
    "        for x, y in zip(xs, ys):\n",
    "            if x not in x_vocab:\n",
    "                x_vocab[x] = len(x_vocab)\n",
    "            if y not in y_vocab:\n",
    "                y_vocab[y] = len(y_vocab)\n",
    "\n",
    "    y_vocab[\"START\"] = len(y_vocab)\n",
    "    y_vocab[\"END\"] = len(y_vocab)\n",
    "\n",
    "    return x_vocab, y_vocab"
   ]
  },
  {
   "cell_type": "code",
   "execution_count": 83,
   "metadata": {
    "id": "58rvZWe9YwrP"
   },
   "outputs": [],
   "source": [
    "def estimate_parameters(x_vocab, y_vocab, train_x, train_y):\n",
    "    \"\"\"\n",
    "    Returns a transitions matrix and emissions matrix with probabilities\n",
    "    given in LOG space.\n",
    "    transitions[s1, s2]: log probability of observing label s2 after label s1.\n",
    "    emissions[s, t]: log probability of observing token t with label s.\n",
    "    \"\"\"\n",
    "    transitions = np.zeros((len(y_vocab)-1, len(y_vocab)))\n",
    "    emissions = np.zeros((len(y_vocab)-2, len(x_vocab)))\n",
    "\n",
    "    for xs, ys in zip(train_x, train_y):\n",
    "        prev = y_vocab[\"START\"]\n",
    "        for i in range(len(ys)):\n",
    "            y_idx = y_vocab[ys[i]]\n",
    "            x_idx = x_vocab[xs[i]]\n",
    "            transitions[prev][y_idx] += 1\n",
    "            prev = y_idx\n",
    "            emissions[y_idx][x_idx] += 1\n",
    "        transitions[prev][y_vocab[\"END\"]] += 1\n",
    "\n",
    "    # normalize each row by its total\n",
    "    transitions = transitions/np.sum(transitions, axis=1, keepdims=True)\n",
    "    emissions = emissions/np.sum(emissions, axis=1, keepdims=True)\n",
    "\n",
    "    # let's work in log space (adding instead of multiplying)\n",
    "    transitions = np.log(transitions)\n",
    "    emissions = np.log(emissions)\n",
    "\n",
    "    return transitions, emissions"
   ]
  },
  {
   "cell_type": "code",
   "execution_count": 84,
   "metadata": {
    "colab": {
     "base_uri": "https://localhost:8080/"
    },
    "id": "pMhN7dbgY3kY",
    "outputId": "0d418a08-d4c8-465d-ec23-4a324af1c6b6"
   },
   "outputs": [
    {
     "name": "stderr",
     "output_type": "stream",
     "text": [
      "/usr/local/lib/python3.7/dist-packages/ipykernel_launcher.py:26: RuntimeWarning: divide by zero encountered in log\n",
      "/usr/local/lib/python3.7/dist-packages/ipykernel_launcher.py:27: RuntimeWarning: divide by zero encountered in log\n"
     ]
    }
   ],
   "source": [
    "train_x, train_y = read_data(\"pos.train\")\n",
    "\n",
    "x_vocab, y_vocab = create_vocab(train_x, train_y)\n",
    "transitions, emissions = estimate_parameters(x_vocab, y_vocab, train_x, train_y)\n",
    "# You might see a \"RuntimeWarning: divide by zero encountered in log\" error — that's ok!"
   ]
  },
  {
   "cell_type": "markdown",
   "metadata": {
    "id": "R4AcNEs3G76o"
   },
   "source": [
    "Run the following cell to understand the sizes and dimensions of the vocabulary, POS tag labels, transitions, and emissions."
   ]
  },
  {
   "cell_type": "code",
   "execution_count": 85,
   "metadata": {
    "colab": {
     "base_uri": "https://localhost:8080/"
    },
    "id": "XSE0b2xS_xJN",
    "outputId": "527c65f0-69c9-4afd-f5fe-f7582112a945"
   },
   "outputs": [
    {
     "name": "stdout",
     "output_type": "stream",
     "text": [
      "# of words in vocabulary: 16650\n",
      "# of POS tag labels (including START and END): 52\n",
      "dimension of transitions: (51, 52)\n",
      "dimension of emissions: (50, 16650)\n"
     ]
    }
   ],
   "source": [
    "print(\"# of words in vocabulary: %d\" % len(x_vocab))\n",
    "print(\"# of POS tag labels (including START and END): %d\" % len(y_vocab))\n",
    "print(\"dimension of transitions: %s\" % (transitions.shape,))\n",
    "print(\"dimension of emissions: %s\" % (emissions.shape,))"
   ]
  },
  {
   "cell_type": "markdown",
   "metadata": {
    "id": "kAVGKq-UIMin"
   },
   "source": [
    "The \"START\" and \"END\" tags are considered \"non-emitting\" states and therefore have no corresponding entries in the emissions matrix. (In other words, there's no probability of observing a word token labeld \"START\" or \"END\" since those are special labels.) According to the `y_vocab` map, `START` and `END` correspond to indices 50 and 51 respectively."
   ]
  },
  {
   "cell_type": "markdown",
   "metadata": {
    "id": "A3QJsGKU_ASR"
   },
   "source": [
    "## Greedy Decode\n",
    "This decoding algorithm proceeds left to right, committing to the best tag for each time step (given the previous tag label and current time step observation). You do not need to modify anything in the `greedy_decode` function."
   ]
  },
  {
   "cell_type": "code",
   "execution_count": 86,
   "metadata": {
    "id": "YLvNZk-QYy1v"
   },
   "outputs": [],
   "source": [
    "def greedy_decode(transitions, emissions, y_vocab, x_vocab, sequence):\n",
    "    prev = y_vocab[\"START\"]\n",
    "    best_prediction = []\n",
    "    for x in sequence:\n",
    "        maxlogprob = -100000000\n",
    "        best_y = None\n",
    "        for y in y_vocab:\n",
    "            if y != \"END\" and y != \"START\":\n",
    "                logprob = transitions[prev][y_vocab[y]] + emissions[y_vocab[y]][x_vocab[x]]\n",
    "                if logprob > maxlogprob:\n",
    "                    maxlogprob = logprob\n",
    "                    best_y = y\n",
    "        prev = y_vocab[best_y]\n",
    "        best_prediction.append(best_y)\n",
    "\n",
    "    return ' '.join(best_prediction)"
   ]
  },
  {
   "cell_type": "markdown",
   "metadata": {
    "id": "xiD0ydD4nAxa"
   },
   "source": [
    "The following cell runs the `greedy_decode` algorithm on the sentence \"fruit flies like a banana\". Take a look at the sequence labels it predicts."
   ]
  },
  {
   "cell_type": "code",
   "execution_count": 87,
   "metadata": {
    "colab": {
     "base_uri": "https://localhost:8080/"
    },
    "id": "8ysgvDbAawSg",
    "outputId": "16f1133c-f31f-48ae-d0b6-4d3daba33fb9"
   },
   "outputs": [
    {
     "name": "stdout",
     "output_type": "stream",
     "text": [
      "NN VBZ IN DT NN\n"
     ]
    }
   ],
   "source": [
    "greedy_prediction = greedy_decode(transitions, emissions, y_vocab, x_vocab, [\"fruit\", \"flies\", \"like\", \"a\", \"banana\"])\n",
    "print(greedy_prediction)"
   ]
  },
  {
   "cell_type": "markdown",
   "metadata": {
    "id": "KxVBBfKiEbQ6"
   },
   "source": [
    "## Viterbi Decode\n",
    "Your task is to implement the Viterbi algorithm to find the optimal sequence of POS tag labels for a sentence or word sequence."
   ]
  },
  {
   "cell_type": "code",
   "execution_count": 97,
   "metadata": {
    "id": "IRYfE3NNKUsL"
   },
   "outputs": [],
   "source": [
    "def viterbi_decode(transitions, emissions, y_vocab, x_vocab, sequence):\n",
    "    \"\"\"\n",
    "    transitions : a matrix where the entry transitions[s1, s2] is the log\n",
    "                  probability of observing label s2 after label s1 in a sequence.\n",
    "    emissions   : a matrix where the entry emissions[s, t] is the log \n",
    "                  probability of observing token t with label s.\n",
    "    y_vocab     : a dictionary mapping each POS tag label to an index of 0 thru\n",
    "                  the number of POS tag labels.\n",
    "    x_vocab     : a dictionary mapping each vocab word to an index of 0 thru the\n",
    "                  number of vocab words.\n",
    "    sequence    : a list of (string) words/tokens.\n",
    "\n",
    "    Returns a string with the POS tag labels (separated by spaces) for the words\n",
    "    in the sequence.\n",
    "    For example,\n",
    "\n",
    "    >>> viterbi_decode(transitions, emissions, y_vocab, x_vocab, [\"fruit\", \"flies\", \"like\", \"a\", \"banana\"])\n",
    "    \"NN VBZ IN DT NN\"\n",
    "\n",
    "    Do not change the order or naming of the input parameters.\n",
    "    \"\"\"\n",
    "\n",
    "    # YOUR CODE HERE\n",
    "    N = len(y_vocab) # num of POS labels, including START and END\n",
    "    T = len(sequence) # num of words in sequence\n",
    "\n",
    "    # initiate the probability and backpointer to be -inf for all cells\n",
    "    # column index 0 for START, followed T columns for words in sequence\n",
    "    viterbi = np.ones((N, T+1)) * -np.inf\n",
    "    backpointer = np.ones((N, T+1)) * -np.inf\n",
    "\n",
    "    # initiation\n",
    "    prev =  y_vocab[\"START\"] # index of initial POS tag\n",
    "    viterbi[:, 0] = transitions[prev]\n",
    "    backpointer[:, 0] = 0\n",
    "\n",
    "    for t, x in enumerate(sequence): # t as index from 0 to T\n",
    "      for y in y_vocab:\n",
    "        if y != \"END\" and y != \"START\":\n",
    "          viterbi[y_vocab[y], t+1] = np.max(viterbi[:-1, t] + transitions[:, y_vocab[y]] + emissions[y_vocab[y], x_vocab[x]])\n",
    "          backpointer[y_vocab[y], t+1] = np.argmax(viterbi[:-1, t] + transitions[:, y_vocab[y]] + emissions[y_vocab[y], x_vocab[x]])\n",
    "\n",
    "    # backtrack the best labels for the sequence, bestpath record index from T to 1\n",
    "    bestpath = []\n",
    "    lastbestindex = np.argmax(viterbi[:, T])\n",
    "    bestpath.append(lastbestindex)\n",
    "\n",
    "    i = lastbestindex\n",
    "    while T >= 2:\n",
    "      i = int(backpointer[i, T])\n",
    "      bestpath.append(i)\n",
    "      T -= 1\n",
    "\n",
    "    bestpath = bestpath[::-1] # reverse the list\n",
    "\n",
    "    # replace y_vocab row index with respective y label\n",
    "    for i in range(len(bestpath)):\n",
    "      for y, row_idx in y_vocab.items():\n",
    "        if row_idx == bestpath[i]:\n",
    "          bestpath[i] = y\n",
    "    \n",
    "    return \" \".join(bestpath)"
   ]
  },
  {
   "cell_type": "code",
   "execution_count": 98,
   "metadata": {
    "colab": {
     "base_uri": "https://localhost:8080/"
    },
    "id": "f0QXzzGvCYF4",
    "outputId": "f4382e51-bbf9-4601-d834-bd489cfabb5c"
   },
   "outputs": [
    {
     "name": "stdout",
     "output_type": "stream",
     "text": [
      "NN VBZ IN DT NN\n"
     ]
    }
   ],
   "source": [
    "viterbi_prediction = viterbi_decode(transitions, emissions, y_vocab, x_vocab, [\"fruit\", \"flies\", \"like\", \"a\", \"banana\"])\n",
    "print(viterbi_prediction)"
   ]
  },
  {
   "cell_type": "markdown",
   "metadata": {
    "id": "BIETy-TeCFIq"
   },
   "source": [
    "The following cell runs the `viterbi_decode` algorithm on the sentence \"fruit flies like a banana\". For this particular sequence, the Viterbi-predicted sequence labels should be the same as the ones predicted by the greedy decode."
   ]
  },
  {
   "cell_type": "markdown",
   "metadata": {
    "id": "WW3h-cEqIF2W"
   },
   "source": [
    "## Examples: Greedy vs Viterbi"
   ]
  },
  {
   "cell_type": "code",
   "execution_count": 99,
   "metadata": {
    "id": "rkL3-fSUGNua"
   },
   "outputs": [],
   "source": [
    "def create_compare_fn(transitions, emissions, y_vocab, x_vocab):\n",
    "    \"\"\"\n",
    "    Helper function to compare results from the greedy decode and viterbi decode.\n",
    "    You do not have to modify this function.\n",
    "    \"\"\"\n",
    "    def compare_greedy_and_viterbi(sentence):\n",
    "        sequence = sentence.lower().split(\" \")\n",
    "        greedy_pred = greedy_decode(transitions, emissions, y_vocab, x_vocab, sequence)\n",
    "        viterbi_pred = viterbi_decode(transitions, emissions, y_vocab, x_vocab, sequence)\n",
    "        return greedy_pred, viterbi_pred\n",
    "    return compare_greedy_and_viterbi\n",
    "\n",
    "compare_greedy_and_viterbi = create_compare_fn(transitions, emissions, y_vocab, x_vocab)"
   ]
  },
  {
   "cell_type": "markdown",
   "metadata": {
    "id": "5KfxCxJaByVv"
   },
   "source": [
    "The following cells run the greedy algorithm and Viterbi algorithm on various sentences. Take a look at the sequence labels it predicts for both. If your Viterbi implementation is correct, the greedy and Viterbi sequence labels should be different for all of the following examples."
   ]
  },
  {
   "cell_type": "code",
   "execution_count": 100,
   "metadata": {
    "colab": {
     "base_uri": "https://localhost:8080/"
    },
    "id": "uvCMswTJlFAZ",
    "outputId": "e58f1969-3bd5-4171-ab00-edbff97cd0a4"
   },
   "outputs": [
    {
     "name": "stdout",
     "output_type": "stream",
     "text": [
      "NN DT NN .\n",
      "VB DT NN .\n"
     ]
    }
   ],
   "source": [
    "g, v = compare_greedy_and_viterbi(\"Bear the feeling .\")\n",
    "print(g)\n",
    "print(v)"
   ]
  },
  {
   "cell_type": "code",
   "execution_count": 101,
   "metadata": {
    "colab": {
     "base_uri": "https://localhost:8080/"
    },
    "id": "KggDnQuDG9x2",
    "outputId": "9e4028f7-98f8-48a4-be55-de8e6bf00cc7"
   },
   "outputs": [
    {
     "name": "stdout",
     "output_type": "stream",
     "text": [
      "JJ DT NN .\n",
      "VBP DT NN .\n"
     ]
    }
   ],
   "source": [
    "g, v = compare_greedy_and_viterbi(\"Present an object .\")\n",
    "print(g)\n",
    "print(v)"
   ]
  },
  {
   "cell_type": "code",
   "execution_count": 102,
   "metadata": {
    "colab": {
     "base_uri": "https://localhost:8080/"
    },
    "id": "-yesgXDNIAUf",
    "outputId": "85f88d0c-83fc-40f8-ba2d-3a182153dde0"
   },
   "outputs": [
    {
     "name": "stdout",
     "output_type": "stream",
     "text": [
      "DT NN VBZ TO RB VBP VBG .\n",
      "DT NN VBZ IN DT NN VBG .\n"
     ]
    }
   ],
   "source": [
    "g, v = compare_greedy_and_viterbi(\"The judge objects to the suspect speaking .\")\n",
    "print(g)\n",
    "print(v)"
   ]
  },
  {
   "cell_type": "markdown",
   "metadata": {
    "id": "pNBMSBvyC_FG"
   },
   "source": [
    "Let's look at a garden path sentence (similar to the one from class, though \"raced\" is not in our vocabulary in this dataset). "
   ]
  },
  {
   "cell_type": "code",
   "execution_count": 103,
   "metadata": {
    "colab": {
     "base_uri": "https://localhost:8080/"
    },
    "id": "2GeVMNA9JptY",
    "outputId": "52c46582-80b7-407a-e774-6babbe86e750"
   },
   "outputs": [
    {
     "name": "stdout",
     "output_type": "stream",
     "text": [
      "DT NN VBD JJ DT NN VBD .\n",
      "DT NN VBN IN DT NN VBD .\n"
     ]
    }
   ],
   "source": [
    "g, v = compare_greedy_and_viterbi(\"The horse led past the barn fell .\")\n",
    "print(g)\n",
    "print(v)"
   ]
  },
  {
   "cell_type": "code",
   "execution_count": null,
   "metadata": {
    "id": "VpGhyZb1Bm40"
   },
   "outputs": [],
   "source": []
  }
 ],
 "metadata": {
  "colab": {
   "collapsed_sections": [],
   "name": "HW_5.ipynb",
   "provenance": []
  },
  "kernelspec": {
   "display_name": "Python 3",
   "language": "python",
   "name": "python3"
  },
  "language_info": {
   "codemirror_mode": {
    "name": "ipython",
    "version": 3
   },
   "file_extension": ".py",
   "mimetype": "text/x-python",
   "name": "python",
   "nbconvert_exporter": "python",
   "pygments_lexer": "ipython3",
   "version": "3.7.6"
  }
 },
 "nbformat": 4,
 "nbformat_minor": 4
}
